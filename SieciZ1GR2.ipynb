{
  "nbformat": 4,
  "nbformat_minor": 0,
  "metadata": {
    "colab": {
      "name": "SieciZ1GR2.ipynb",
      "provenance": [],
      "authorship_tag": "ABX9TyOeeCcKoZ+SVfLmN1tpeyXh",
      "include_colab_link": true
    },
    "kernelspec": {
      "name": "python3",
      "display_name": "Python 3"
    }
  },
  "cells": [
    {
      "cell_type": "markdown",
      "metadata": {
        "id": "view-in-github",
        "colab_type": "text"
      },
      "source": [
        "<a href=\"https://colab.research.google.com/github/PythonSieciUJ/IntroToPython/blob/grupa2%5D/SieciZ1GR2.ipynb\" target=\"_parent\"><img src=\"https://colab.research.google.com/assets/colab-badge.svg\" alt=\"Open In Colab\"/></a>"
      ]
    },
    {
      "cell_type": "markdown",
      "metadata": {
        "id": "EYNMad2bfay5",
        "colab_type": "text"
      },
      "source": [
        "# Sieci - Z1 - 24.02.2020"
      ]
    },
    {
      "cell_type": "markdown",
      "metadata": {
        "id": "9PDz_XdGf1P-",
        "colab_type": "text"
      },
      "source": [
        "Mój pierwszy program w Python 3 - wyświetlenie napisu *Hello World!*"
      ]
    },
    {
      "cell_type": "code",
      "metadata": {
        "id": "IIH9ImZzfVWh",
        "colab_type": "code",
        "colab": {}
      },
      "source": [
        "print(\"Hello World!\")"
      ],
      "execution_count": 0,
      "outputs": []
    },
    {
      "cell_type": "code",
      "metadata": {
        "id": "dYZvL-D_gv9s",
        "colab_type": "code",
        "colab": {}
      },
      "source": [
        "print('Hello World')"
      ],
      "execution_count": 0,
      "outputs": []
    },
    {
      "cell_type": "code",
      "metadata": {
        "id": "jbdsZqBmhCNS",
        "colab_type": "code",
        "colab": {}
      },
      "source": [
        "print(\"Hello World\")"
      ],
      "execution_count": 0,
      "outputs": []
    },
    {
      "cell_type": "code",
      "metadata": {
        "id": "WowaJBUQheNs",
        "colab_type": "code",
        "colab": {}
      },
      "source": [
        "#definiuję zmienną sala, przypisuję jej wartość (ciąg znaków), wypisuję komunikat\n",
        "sala = \"3.121\"\n",
        "print(\"Zajęcia z Sieci w sali:\", sala)"
      ],
      "execution_count": 0,
      "outputs": []
    },
    {
      "cell_type": "code",
      "metadata": {
        "id": "5XPm_4GPh36j",
        "colab_type": "code",
        "colab": {}
      },
      "source": [
        ""
      ],
      "execution_count": 0,
      "outputs": []
    }
  ]
}