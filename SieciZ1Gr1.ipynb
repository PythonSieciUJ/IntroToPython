{
  "nbformat": 4,
  "nbformat_minor": 0,
  "metadata": {
    "colab": {
      "name": "SieciZ1Gr1.ipynb",
      "provenance": [],
      "authorship_tag": "ABX9TyOvoWWM75Ufq++RwMVLFG3E",
      "include_colab_link": true
    },
    "kernelspec": {
      "name": "python3",
      "display_name": "Python 3"
    }
  },
  "cells": [
    {
      "cell_type": "markdown",
      "metadata": {
        "id": "view-in-github",
        "colab_type": "text"
      },
      "source": [
        "<a href=\"https://colab.research.google.com/github/PythonSieciUJ/IntroToPython/blob/grupa/SieciZ1Gr1.ipynb\" target=\"_parent\"><img src=\"https://colab.research.google.com/assets/colab-badge.svg\" alt=\"Open In Colab\"/></a>"
      ]
    },
    {
      "cell_type": "markdown",
      "metadata": {
        "id": "qmiCwfT5Omsy",
        "colab_type": "text"
      },
      "source": [
        "# Sieci - Z1 - Grupa 1 - 24.02.2020"
      ]
    },
    {
      "cell_type": "markdown",
      "metadata": {
        "id": "xyfRARzIO3f4",
        "colab_type": "text"
      },
      "source": [
        "Mój pierwszy program w Python 3 - wypisanie tekstu *Hello World!*"
      ]
    },
    {
      "cell_type": "code",
      "metadata": {
        "id": "LMgRgIzHPXdg",
        "colab_type": "code",
        "colab": {}
      },
      "source": [
        "print(\"Hello World\")"
      ],
      "execution_count": 0,
      "outputs": []
    },
    {
      "cell_type": "code",
      "metadata": {
        "id": "v-Iw5IkKPw7Z",
        "colab_type": "code",
        "colab": {}
      },
      "source": [
        "print('Hello World')"
      ],
      "execution_count": 0,
      "outputs": []
    },
    {
      "cell_type": "code",
      "metadata": {
        "id": "rsZz95HRP_cO",
        "colab_type": "code",
        "colab": {}
      },
      "source": [
        "print(\"Hello World\")"
      ],
      "execution_count": 0,
      "outputs": []
    },
    {
      "cell_type": "code",
      "metadata": {
        "id": "hpko5TAAQKr3",
        "colab_type": "code",
        "colab": {}
      },
      "source": [
        "#definiuję zmienną sala, przypisuję jej ciąg znaków, wypisuję tekst\n",
        "sala = \"3.121\"\n",
        "print(\"Zajęcia z Sieci w sali:\", sala)"
      ],
      "execution_count": 0,
      "outputs": []
    },
    {
      "cell_type": "code",
      "metadata": {
        "id": "DOMto_sASsxW",
        "colab_type": "code",
        "outputId": "3e283dd1-3257-452a-c413-91af0f9dc71f",
        "colab": {
          "base_uri": "https://localhost:8080/",
          "height": 36
        }
      },
      "source": [
        "sala = \"3.121\"\n",
        "print(\"Zajęcia z Sieci w sali:\", sala)"
      ],
      "execution_count": 0,
      "outputs": [
        {
          "output_type": "stream",
          "text": [
            "Zajęcia z Sieci w sali: 3.121\n"
          ],
          "name": "stdout"
        }
      ]
    },
    {
      "cell_type": "markdown",
      "metadata": {
        "id": "ytXFKdZRQcs3",
        "colab_type": "text"
      },
      "source": [
        "# Notatki"
      ]
    }
  ]
}